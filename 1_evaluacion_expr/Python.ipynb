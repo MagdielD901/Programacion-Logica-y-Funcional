{
 "cells": [
  {
   "cell_type": "markdown",
   "metadata": {},
   "source": [
    "# Ejercicios"
   ]
  },
  {
   "cell_type": "markdown",
   "metadata": {},
   "source": [
    "# Expresion 1\n",
    "\n",
    "expr1 = (3+2)*4\n",
    "\n",
    "- Paso 1: Resolver la expresion dentro del parentesis \n",
    "(3+2)=5\n",
    "\n",
    "- Paso 2: Multiplicar el resultado por 4\n",
    "- 5 * 4 = 20\n",
    "\n",
    "Resultado final\n",
    "expr1 = 20"
   ]
  },
  {
   "cell_type": "code",
   "execution_count": 1,
   "metadata": {},
   "outputs": [
    {
     "name": "stdout",
     "output_type": "stream",
     "text": [
      "20\n"
     ]
    }
   ],
   "source": [
    "exprt1 = (3 + 2) * 4\n",
    "print(exprt1)"
   ]
  },
  {
   "cell_type": "markdown",
   "metadata": {},
   "source": [
    "# Expresion 2\n",
    "expr2 = 2 * 3 ** 2\n",
    "- Paso 1: Potencias se resuelven primero  3 ** 2 = 9\n",
    "- Paso 2: Multiplicación 2 * 9 = 18\n",
    "\n",
    "Resultado final expr2 = 18\n"
   ]
  },
  {
   "cell_type": "code",
   "execution_count": 2,
   "metadata": {},
   "outputs": [
    {
     "name": "stdout",
     "output_type": "stream",
     "text": [
      "18\n"
     ]
    }
   ],
   "source": [
    "expr2 = 2 * 3 **2\n",
    "print(expr2)"
   ]
  },
  {
   "cell_type": "markdown",
   "metadata": {},
   "source": [
    "# Expresion 3\n",
    "expr3 = 10 // 3+2\n",
    "- Paso 1: Division entera 10 // 3 = 3\n",
    "- Paso 2: Sumar 3 + 2 = 5\n",
    "\n",
    "Resultado final expr3 = 5"
   ]
  },
  {
   "cell_type": "code",
   "execution_count": 3,
   "metadata": {},
   "outputs": [
    {
     "name": "stdout",
     "output_type": "stream",
     "text": [
      "5\n"
     ]
    }
   ],
   "source": [
    "expr3 = 10 // 3 +2\n",
    "print(expr3)"
   ]
  },
  {
   "cell_type": "markdown",
   "metadata": {},
   "source": [
    "# Expresión 4\n",
    "expr4 = 17 % 5 * 2\n",
    "- Paso 1: Módulo 17 % 5 = 2\n",
    "- Paso 2: Multiplicacion 2 * 2 = 4\n",
    "\n",
    "Resultado final expr4 = 4"
   ]
  },
  {
   "cell_type": "code",
   "execution_count": 4,
   "metadata": {},
   "outputs": [
    {
     "name": "stdout",
     "output_type": "stream",
     "text": [
      "4\n"
     ]
    }
   ],
   "source": [
    "expr4 = 17 % 5 * 2\n",
    "print(expr4)"
   ]
  },
  {
   "cell_type": "markdown",
   "metadata": {},
   "source": [
    "# Expresión 5\n",
    "expr5 = -2 ** 2\n",
    "\n",
    "- Paso 1: Potencia 2 ** 2 = 4\n",
    "- Paso 2: Aplicar el signo negativo -4\n",
    "\n",
    "Resultado final expr5 = -4"
   ]
  },
  {
   "cell_type": "code",
   "execution_count": 5,
   "metadata": {},
   "outputs": [
    {
     "name": "stdout",
     "output_type": "stream",
     "text": [
      "-4\n"
     ]
    }
   ],
   "source": [
    "expr5 = -2 ** 2\n",
    "print(expr5)"
   ]
  },
  {
   "cell_type": "markdown",
   "metadata": {},
   "source": [
    "# Expresión 6\n",
    "expr6 = 3 + 4 * 2 ** 2 // 3\n",
    "\n",
    "- Paso 1: Potencia 2 **2 = 4\n",
    "- Paso 2: Multiplicación 4 * 4 = 16\n",
    "- Paso 3: División entera 16 // 3 = 5\n",
    "- Paso 4: Sumar 3 + 5 = 8\n",
    "\n",
    "Resultado final expr6 = 8\n"
   ]
  },
  {
   "cell_type": "code",
   "execution_count": 6,
   "metadata": {},
   "outputs": [
    {
     "name": "stdout",
     "output_type": "stream",
     "text": [
      "8\n"
     ]
    }
   ],
   "source": [
    "expr6 = 3 + 4 * 2 ** 2 // 3\n",
    "print(expr6)"
   ]
  },
  {
   "cell_type": "markdown",
   "metadata": {},
   "source": [
    "# Expresión 7\n",
    "\n",
    "expr7 = 3 < 4 < 5\n",
    "\n",
    "- Paso 1: Evaluación (3 < 4 y 4 < 5)\n",
    "- True y True"
   ]
  },
  {
   "cell_type": "code",
   "execution_count": 7,
   "metadata": {},
   "outputs": [
    {
     "name": "stdout",
     "output_type": "stream",
     "text": [
      "True\n"
     ]
    }
   ],
   "source": [
    "exprt7 = 3 < 4 < 5\n",
    "print(exprt7)"
   ]
  },
  {
   "cell_type": "markdown",
   "metadata": {},
   "source": [
    "# Expresión 8\n",
    "\n",
    "expr8 = (3 > 2) and (5 < 10) or false\n",
    "\n",
    "- Paso 1: Comparaciones (3 > 2)= true\n",
    "- Paso 2: and TRue and True = True\n",
    "- Paso 3: or True or Flase = True\n",
    "\n",
    "Resultado final expr8= True"
   ]
  },
  {
   "cell_type": "code",
   "execution_count": 8,
   "metadata": {},
   "outputs": [
    {
     "name": "stdout",
     "output_type": "stream",
     "text": [
      "True\n"
     ]
    }
   ],
   "source": [
    "expr8 = (3 > 2) and (5 < 10 ) or false\n",
    "print(expr8)"
   ]
  },
  {
   "cell_type": "markdown",
   "metadata": {},
   "source": [
    "# Expresión 9\n",
    "\n",
    "expr9 = 5 & 3 + 1\n",
    "\n",
    "- Paso 1: Sumar 3 + 1 = 4\n",
    "- Paso 2: 5 & 4 = 0101 & 0100 = 0100 = 4\n",
    "\n",
    "Resultado final expr9 = 4"
   ]
  },
  {
   "cell_type": "code",
   "execution_count": 9,
   "metadata": {},
   "outputs": [
    {
     "name": "stdout",
     "output_type": "stream",
     "text": [
      "4\n"
     ]
    }
   ],
   "source": [
    "expr9 = 5 & 3 + 1\n",
    "print(expr9)"
   ]
  },
  {
   "cell_type": "markdown",
   "metadata": {},
   "source": [
    "# Expresión 10 \n",
    "\n",
    "expr10 = (2 + 3) * 4 ** 2 // (5 % 3) not and false \n",
    "\n",
    "- Paso 1: Parentesis 2 + 3 = 5 \n",
    "4 ** 2 = 16 \n",
    "5 % 3 = 2\n",
    "\n",
    "- Paso 2: Multiplicacion 5 * 16 = 80\n",
    "- Paso 3: Division 80 // 2 = 40\n",
    "- Paso 4: and not false 40 and true \n",
    "\n",
    "Resultado final expr10 = True"
   ]
  },
  {
   "cell_type": "code",
   "execution_count": 13,
   "metadata": {},
   "outputs": [
    {
     "name": "stdout",
     "output_type": "stream",
     "text": [
      "True\n"
     ]
    }
   ],
   "source": [
    "expr10 = (2 + 3) * 4 ** 2 // (5 % 3) and not False\n",
    "print(expr10)"
   ]
  },
  {
   "cell_type": "markdown",
   "metadata": {},
   "source": [
    "# Expresión 11\n",
    "\n",
    "expr11 = ((65 & 66 )> 70) and not (65 ^ 66)==0\n",
    "\n",
    "- Paso 1: \n",
    "65 = 01000001\n",
    "66 = 01000010\n",
    "65 & 66 = 01000000 = 64\n",
    "\n",
    "64 > 70 = False\n",
    "\n",
    "- Paso 2: XOR\n",
    "65 ^ 66 = 3 \n",
    "3 == 0\n",
    "False not false = True\n",
    "\n",
    "- Paso 3: False and true = False\n",
    "\n",
    "Resultado final expr11= False\n",
    "\n"
   ]
  },
  {
   "cell_type": "code",
   "execution_count": 14,
   "metadata": {},
   "outputs": [
    {
     "name": "stdout",
     "output_type": "stream",
     "text": [
      "False\n"
     ]
    }
   ],
   "source": [
    "\n",
    "expr11 = ((65 & 66 )> 70) and not (65 ^ 66)==0\n",
    "print(expr11)"
   ]
  }
 ],
 "metadata": {
  "kernelspec": {
   "display_name": "Python 3",
   "language": "python",
   "name": "python3"
  },
  "language_info": {
   "codemirror_mode": {
    "name": "ipython",
    "version": 3
   },
   "file_extension": ".py",
   "mimetype": "text/x-python",
   "name": "python",
   "nbconvert_exporter": "python",
   "pygments_lexer": "ipython3",
   "version": "3.11.4"
  }
 },
 "nbformat": 4,
 "nbformat_minor": 2
}
