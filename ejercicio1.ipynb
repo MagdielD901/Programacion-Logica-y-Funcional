{
 "cells": [
  {
   "cell_type": "markdown",
   "id": "a27d92ab",
   "metadata": {},
   "source": [
    "# Ejercicio 1\n",
    "Ejercicio 1 de evaluacion de expresiones en Python"
   ]
  },
  {
   "cell_type": "code",
   "execution_count": null,
   "id": "7d0bf371",
   "metadata": {
    "vscode": {
     "languageId": "plaintext"
    }
   },
   "outputs": [],
   "source": [
    "x = 10\n",
    "print(x**2)"
   ]
  }
 ],
 "metadata": {
  "language_info": {
   "name": "python"
  }
 },
 "nbformat": 4,
 "nbformat_minor": 5
}
